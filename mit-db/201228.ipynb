{
 "cells": [
  {
   "cell_type": "code",
   "execution_count": 1,
   "metadata": {},
   "outputs": [],
   "source": [
    "import os\n",
    "import pandas as pd\n",
    "import numpy as np\n",
    "import tensorflow as tf\n",
    "from sklearn.model_selection import train_test_split\n",
    "from sklearn.preprocessing import normalize\n",
    "from sklearn.metrics import confusion_matrix\n",
    "from keras.utils.np_utils import to_categorical\n",
    "import matplotlib.pyplot as plt\n",
    "import csv\n",
    "import itertools\n",
    "import collections"
   ]
  },
  {
   "cell_type": "code",
   "execution_count": 2,
   "metadata": {},
   "outputs": [
    {
     "name": "stdout",
     "output_type": "stream",
     "text": [
      "dataset\\100.csv\n",
      "dataset\\100annotations.txt\n",
      "dataset\\101.csv\n",
      "dataset\\101annotations.txt\n",
      "dataset\\102.csv\n",
      "dataset\\102annotations.txt\n",
      "dataset\\103.csv\n",
      "dataset\\103annotations.txt\n",
      "dataset\\104.csv\n",
      "dataset\\104annotations.txt\n",
      "dataset\\105.csv\n",
      "dataset\\105annotations.txt\n",
      "dataset\\106.csv\n",
      "dataset\\106annotations.txt\n",
      "dataset\\107.csv\n",
      "dataset\\107annotations.txt\n",
      "dataset\\108.csv\n",
      "dataset\\108annotations.txt\n",
      "dataset\\109.csv\n",
      "dataset\\109annotations.txt\n",
      "dataset\\111.csv\n",
      "dataset\\111annotations.txt\n",
      "dataset\\112.csv\n",
      "dataset\\112annotations.txt\n",
      "dataset\\113.csv\n",
      "dataset\\113annotations.txt\n",
      "dataset\\114.csv\n",
      "dataset\\114annotations.txt\n",
      "dataset\\115.csv\n",
      "dataset\\115annotations.txt\n",
      "dataset\\116.csv\n",
      "dataset\\116annotations.txt\n",
      "dataset\\117.csv\n",
      "dataset\\117annotations.txt\n",
      "dataset\\118.csv\n",
      "dataset\\118annotations.txt\n",
      "dataset\\119.csv\n",
      "dataset\\119annotations.txt\n",
      "dataset\\121.csv\n",
      "dataset\\121annotations.txt\n",
      "dataset\\122.csv\n",
      "dataset\\122annotations.txt\n",
      "dataset\\123.csv\n",
      "dataset\\123annotations.txt\n",
      "dataset\\124.csv\n",
      "dataset\\124annotations.txt\n",
      "dataset\\200.csv\n",
      "dataset\\200annotations.txt\n",
      "dataset\\201.csv\n",
      "dataset\\201annotations.txt\n",
      "dataset\\202.csv\n",
      "dataset\\202annotations.txt\n",
      "dataset\\203.csv\n",
      "dataset\\203annotations.txt\n",
      "dataset\\205.csv\n",
      "dataset\\205annotations.txt\n",
      "dataset\\207.csv\n",
      "dataset\\207annotations.txt\n",
      "dataset\\208.csv\n",
      "dataset\\208annotations.txt\n",
      "dataset\\209.csv\n",
      "dataset\\209annotations.txt\n",
      "dataset\\210.csv\n",
      "dataset\\210annotations.txt\n",
      "dataset\\212.csv\n",
      "dataset\\212annotations.txt\n",
      "dataset\\213.csv\n",
      "dataset\\213annotations.txt\n",
      "dataset\\214.csv\n",
      "dataset\\214annotations.txt\n",
      "dataset\\215.csv\n",
      "dataset\\215annotations.txt\n",
      "dataset\\217.csv\n",
      "dataset\\217annotations.txt\n",
      "dataset\\219.csv\n",
      "dataset\\219annotations.txt\n",
      "dataset\\220.csv\n",
      "dataset\\220annotations.txt\n",
      "dataset\\221.csv\n",
      "dataset\\221annotations.txt\n",
      "dataset\\222.csv\n",
      "dataset\\222annotations.txt\n",
      "dataset\\223.csv\n",
      "dataset\\223annotations.txt\n",
      "dataset\\228.csv\n",
      "dataset\\228annotations.txt\n",
      "dataset\\230.csv\n",
      "dataset\\230annotations.txt\n",
      "dataset\\231.csv\n",
      "dataset\\231annotations.txt\n",
      "dataset\\232.csv\n",
      "dataset\\232annotations.txt\n",
      "dataset\\233.csv\n",
      "dataset\\233annotations.txt\n",
      "dataset\\234.csv\n",
      "dataset\\234annotations.txt\n",
      "dataset\\mitbih_database\\100.csv\n",
      "dataset\\mitbih_database\\100annotations.txt\n",
      "dataset\\mitbih_database\\101.csv\n",
      "dataset\\mitbih_database\\101annotations.txt\n",
      "dataset\\mitbih_database\\102.csv\n",
      "dataset\\mitbih_database\\102annotations.txt\n",
      "dataset\\mitbih_database\\103.csv\n",
      "dataset\\mitbih_database\\103annotations.txt\n",
      "dataset\\mitbih_database\\104.csv\n",
      "dataset\\mitbih_database\\104annotations.txt\n",
      "dataset\\mitbih_database\\105.csv\n",
      "dataset\\mitbih_database\\105annotations.txt\n",
      "dataset\\mitbih_database\\106.csv\n",
      "dataset\\mitbih_database\\106annotations.txt\n",
      "dataset\\mitbih_database\\107.csv\n",
      "dataset\\mitbih_database\\107annotations.txt\n",
      "dataset\\mitbih_database\\108.csv\n",
      "dataset\\mitbih_database\\108annotations.txt\n",
      "dataset\\mitbih_database\\109.csv\n",
      "dataset\\mitbih_database\\109annotations.txt\n",
      "dataset\\mitbih_database\\111.csv\n",
      "dataset\\mitbih_database\\111annotations.txt\n",
      "dataset\\mitbih_database\\112.csv\n",
      "dataset\\mitbih_database\\112annotations.txt\n",
      "dataset\\mitbih_database\\113.csv\n",
      "dataset\\mitbih_database\\113annotations.txt\n",
      "dataset\\mitbih_database\\114.csv\n",
      "dataset\\mitbih_database\\114annotations.txt\n",
      "dataset\\mitbih_database\\115.csv\n",
      "dataset\\mitbih_database\\115annotations.txt\n",
      "dataset\\mitbih_database\\116.csv\n",
      "dataset\\mitbih_database\\116annotations.txt\n",
      "dataset\\mitbih_database\\117.csv\n",
      "dataset\\mitbih_database\\117annotations.txt\n",
      "dataset\\mitbih_database\\118.csv\n",
      "dataset\\mitbih_database\\118annotations.txt\n",
      "dataset\\mitbih_database\\119.csv\n",
      "dataset\\mitbih_database\\119annotations.txt\n",
      "dataset\\mitbih_database\\121.csv\n",
      "dataset\\mitbih_database\\121annotations.txt\n",
      "dataset\\mitbih_database\\122.csv\n",
      "dataset\\mitbih_database\\122annotations.txt\n",
      "dataset\\mitbih_database\\123.csv\n",
      "dataset\\mitbih_database\\123annotations.txt\n",
      "dataset\\mitbih_database\\124.csv\n",
      "dataset\\mitbih_database\\124annotations.txt\n",
      "dataset\\mitbih_database\\200.csv\n",
      "dataset\\mitbih_database\\200annotations.txt\n",
      "dataset\\mitbih_database\\201.csv\n",
      "dataset\\mitbih_database\\201annotations.txt\n",
      "dataset\\mitbih_database\\202.csv\n",
      "dataset\\mitbih_database\\202annotations.txt\n",
      "dataset\\mitbih_database\\203.csv\n",
      "dataset\\mitbih_database\\203annotations.txt\n",
      "dataset\\mitbih_database\\205.csv\n",
      "dataset\\mitbih_database\\205annotations.txt\n",
      "dataset\\mitbih_database\\207.csv\n",
      "dataset\\mitbih_database\\207annotations.txt\n",
      "dataset\\mitbih_database\\208.csv\n",
      "dataset\\mitbih_database\\208annotations.txt\n",
      "dataset\\mitbih_database\\209.csv\n",
      "dataset\\mitbih_database\\209annotations.txt\n",
      "dataset\\mitbih_database\\210.csv\n",
      "dataset\\mitbih_database\\210annotations.txt\n",
      "dataset\\mitbih_database\\212.csv\n",
      "dataset\\mitbih_database\\212annotations.txt\n",
      "dataset\\mitbih_database\\213.csv\n",
      "dataset\\mitbih_database\\213annotations.txt\n",
      "dataset\\mitbih_database\\214.csv\n",
      "dataset\\mitbih_database\\214annotations.txt\n",
      "dataset\\mitbih_database\\215.csv\n",
      "dataset\\mitbih_database\\215annotations.txt\n",
      "dataset\\mitbih_database\\217.csv\n",
      "dataset\\mitbih_database\\217annotations.txt\n",
      "dataset\\mitbih_database\\219.csv\n",
      "dataset\\mitbih_database\\219annotations.txt\n",
      "dataset\\mitbih_database\\220.csv\n",
      "dataset\\mitbih_database\\220annotations.txt\n",
      "dataset\\mitbih_database\\221.csv\n",
      "dataset\\mitbih_database\\221annotations.txt\n",
      "dataset\\mitbih_database\\222.csv\n",
      "dataset\\mitbih_database\\222annotations.txt\n",
      "dataset\\mitbih_database\\223.csv\n",
      "dataset\\mitbih_database\\223annotations.txt\n",
      "dataset\\mitbih_database\\228.csv\n",
      "dataset\\mitbih_database\\228annotations.txt\n",
      "dataset\\mitbih_database\\230.csv\n",
      "dataset\\mitbih_database\\230annotations.txt\n",
      "dataset\\mitbih_database\\231.csv\n",
      "dataset\\mitbih_database\\231annotations.txt\n",
      "dataset\\mitbih_database\\232.csv\n",
      "dataset\\mitbih_database\\232annotations.txt\n",
      "dataset\\mitbih_database\\233.csv\n",
      "dataset\\mitbih_database\\233annotations.txt\n",
      "dataset\\mitbih_database\\234.csv\n",
      "dataset\\mitbih_database\\234annotations.txt\n"
     ]
    }
   ],
   "source": [
    "# txt랑 csv 100 ~ 234\n",
    "for dirname, _, filenames in os.walk('dataset'):\n",
    "    for filename in filenames:\n",
    "        print(os.path.join(dirname, filename))"
   ]
  },
  {
   "cell_type": "code",
   "execution_count": 3,
   "metadata": {},
   "outputs": [],
   "source": [
    "plt.rcParams[\"figure.figsize\"] = (30,6)\n",
    "plt.rcParams['lines.linewidth'] = 1\n",
    "plt.rcParams['lines.color'] = 'b'\n",
    "plt.rcParams['axes.grid'] = True "
   ]
  },
  {
   "cell_type": "code",
   "execution_count": 4,
   "metadata": {},
   "outputs": [],
   "source": [
    "path = 'dataset/'\n",
    "filenames = next(os.walk(path))[2]\n",
    "\n",
    "records = list() # csv 파일 목록\n",
    "annotations = list()\n",
    "filenames.sort()"
   ]
  },
  {
   "cell_type": "code",
   "execution_count": 5,
   "metadata": {},
   "outputs": [],
   "source": [
    "# os.path.splitext : 파일명과 확장자 분리\n",
    "for f in filenames:\n",
    "    filename, file_extension = os.path.splitext(f)\n",
    "    \n",
    "    # csv확장자는 records에 저장\n",
    "    if(file_extension == '.csv'):\n",
    "        records.append(path + filename + file_extension)\n",
    "\n",
    "    # txt확장자는 annotations에 저장\n",
    "    else:\n",
    "        annotations.append(path + filename + file_extension)"
   ]
  },
  {
   "cell_type": "code",
   "execution_count": 6,
   "metadata": {},
   "outputs": [
    {
     "data": {
      "text/plain": [
       "['dataset/100.csv',\n",
       " 'dataset/101.csv',\n",
       " 'dataset/102.csv',\n",
       " 'dataset/103.csv',\n",
       " 'dataset/104.csv',\n",
       " 'dataset/105.csv',\n",
       " 'dataset/106.csv',\n",
       " 'dataset/107.csv',\n",
       " 'dataset/108.csv',\n",
       " 'dataset/109.csv',\n",
       " 'dataset/111.csv',\n",
       " 'dataset/112.csv',\n",
       " 'dataset/113.csv',\n",
       " 'dataset/114.csv',\n",
       " 'dataset/115.csv',\n",
       " 'dataset/116.csv',\n",
       " 'dataset/117.csv',\n",
       " 'dataset/118.csv',\n",
       " 'dataset/119.csv',\n",
       " 'dataset/121.csv',\n",
       " 'dataset/122.csv',\n",
       " 'dataset/123.csv',\n",
       " 'dataset/124.csv',\n",
       " 'dataset/200.csv',\n",
       " 'dataset/201.csv',\n",
       " 'dataset/202.csv',\n",
       " 'dataset/203.csv',\n",
       " 'dataset/205.csv',\n",
       " 'dataset/207.csv',\n",
       " 'dataset/208.csv',\n",
       " 'dataset/209.csv',\n",
       " 'dataset/210.csv',\n",
       " 'dataset/212.csv',\n",
       " 'dataset/213.csv',\n",
       " 'dataset/214.csv',\n",
       " 'dataset/215.csv',\n",
       " 'dataset/217.csv',\n",
       " 'dataset/219.csv',\n",
       " 'dataset/220.csv',\n",
       " 'dataset/221.csv',\n",
       " 'dataset/222.csv',\n",
       " 'dataset/223.csv',\n",
       " 'dataset/228.csv',\n",
       " 'dataset/230.csv',\n",
       " 'dataset/231.csv',\n",
       " 'dataset/232.csv',\n",
       " 'dataset/233.csv',\n",
       " 'dataset/234.csv']"
      ]
     },
     "execution_count": 6,
     "metadata": {},
     "output_type": "execute_result"
    }
   ],
   "source": [
    "records"
   ]
  },
  {
   "cell_type": "code",
   "execution_count": 8,
   "metadata": {},
   "outputs": [
    {
     "name": "stdout",
     "output_type": "stream",
     "text": [
      "[995, 995, 995, 995, 995, 995, 995, 995, 1000, 997, 995, 994, 992, 993, 992, 989, 988, 987, 990, 993, 989, 988, 986, 988, 993, 997, 993, 986, 983, 977, 979, 975, 974, 972, 969, 969, 969, 971, 973, 971, 969, 966, 966, 966, 966, 967, 965, 963, 967, 969]\n",
      "650000\n"
     ]
    }
   ],
   "source": [
    "with open(records[0], 'rt') as csvfile:\n",
    "    signals = []\n",
    "    spamreader = csv.reader(csvfile, delimiter=',', quotechar='|')\n",
    "    next(spamreader)\n",
    "    for row in spamreader:\n",
    "        signals.append(int(row[1]))\n",
    "        \n",
    "print(signals[:50])\n",
    "print(len(signals))"
   ]
  },
  {
   "cell_type": "code",
   "execution_count": 135,
   "metadata": {},
   "outputs": [
    {
     "name": "stdout",
     "output_type": "stream",
     "text": [
      "[['0:00.214', '77', 'N', '0', '0', '0'], ['0:01.028', '370', 'N', '0', '0', '0'], ['0:01.839', '662', 'N', '0', '0', '0'], ['0:02.628', '946', 'N', '0', '0', '0'], ['0:03.419', '1231', 'N', '0', '0', '0']]\n",
      "['0:00.050', '0:00.214', '0:01.028', '0:01.839', '0:02.628']\n",
      "['18', '77', '370', '662', '946']\n",
      "['/', 'N', 'N', 'N', 'N']\n"
     ]
    }
   ],
   "source": [
    "r = 0\n",
    "times = [] # 시간 담아두기\n",
    "periods = [] # 시작점 담기 (구간 확인위해)\n",
    "classes = [] # 분류 담아두기\n",
    "\n",
    "with open(records[r], 'rt') as csvfile:\n",
    "    signals = []\n",
    "    annote = []\n",
    "    spamreader = csv.reader(csvfile, delimiter=',', quotechar='|')\n",
    "    next(spamreader) # 헤더 지우기\n",
    "    for row in spamreader:\n",
    "        signals.append(int(row[1]))\n",
    "\n",
    "with open(annotations[r],'r') as txtfile:\n",
    "    data = txtfile.readlines()\n",
    "    first = data[1].split()\n",
    "    times.append(first[0])\n",
    "    periods.append(first[1])\n",
    "    classes.append('/')\n",
    "    for row in data[2:]:\n",
    "        annote.append(row.split())\n",
    "        times.append(row.split()[0])\n",
    "        periods.append(row.split()[1])\n",
    "        classes.append(row.split()[2])\n",
    "        \n",
    "print(annote[:5])\n",
    "print(times[:5])\n",
    "print(periods[:5])\n",
    "print(classes[:5])"
   ]
  },
  {
   "cell_type": "code",
   "execution_count": 36,
   "metadata": {},
   "outputs": [
    {
     "data": {
      "text/plain": [
       "[18, 77, 370, 662, 946, 1231]"
      ]
     },
     "execution_count": 36,
     "metadata": {},
     "output_type": "execute_result"
    }
   ],
   "source": [
    "samples = list(map(int, periods))\n",
    "samples[:6] # 길이"
   ]
  },
  {
   "cell_type": "code",
   "execution_count": 129,
   "metadata": {},
   "outputs": [
    {
     "data": {
      "image/png": "[encoded data removed]",
      "text/plain": [
       "<Figure size 2160x432 with 1 Axes>"
      ]
     },
     "metadata": {
      "needs_background": "light"
     },
     "output_type": "display_data"
    }
   ],
   "source": [
    "qspot = [] # q 점\n",
    "rspot = [] # r 점\n",
    "sspot = [] # s 점\n",
    "\n",
    "plt.plot(signals[:1050])\n",
    "# rspot = []\n",
    "# for i in samples[:5]:\n",
    "#     rspot.append(signals[i])\n",
    "plt.scatter(samples[1:5], [signals[i] for i in samples[1:5]], c='r')\n",
    "plt.show()"
   ]
  },
  {
   "cell_type": "code",
   "execution_count": 93,
   "metadata": {},
   "outputs": [
    {
     "data": {
      "text/plain": [
       "[[47, 107], [340, 400], [632, 692]]"
      ]
     },
     "execution_count": 93,
     "metadata": {},
     "output_type": "execute_result"
    }
   ],
   "source": [
    "temp = samples[1:4] # R 위치 가지고 우선적으로 correlation구하기\n",
    "window = []\n",
    "for i in temp:\n",
    "    window.append([i-30, i+30])\n",
    "window"
   ]
  },
  {
   "cell_type": "code",
   "execution_count": 100,
   "metadata": {},
   "outputs": [
    {
     "name": "stdout",
     "output_type": "stream",
     "text": [
      "[[1.         0.97521667]\n",
      " [0.97521667 1.        ]]\n",
      "[[1.         0.96604411]\n",
      " [0.96604411 1.        ]]\n"
     ]
    }
   ],
   "source": [
    "for i in range(len(window)-1):\n",
    "    array = np.corrcoef(signals[window[i][0]:window[i][1]], signals[window[i+1][0]:window[i+1][1]])\n",
    "    print(array)"
   ]
  },
  {
   "cell_type": "code",
   "execution_count": 140,
   "metadata": {},
   "outputs": [
    {
     "name": "stdout",
     "output_type": "stream",
     "text": [
      "1 번째 신호의 Corr1 :  0.97521666910301\n",
      "2 번째 신호의 Corr1 :  0.9660441147874228\n"
     ]
    }
   ],
   "source": [
    "for i in range(len(window)-1):\n",
    "    array = np.corrcoef(signals[window[i][0]:window[i][1]], signals[window[i+1][0]:window[i+1][1]])\n",
    "    print(i+1,\"번째 신호의 Corr1 : \",array[0][1])"
   ]
  },
  {
   "cell_type": "code",
   "execution_count": 107,
   "metadata": {},
   "outputs": [
    {
     "name": "stdout",
     "output_type": "stream",
     "text": [
      "2 번째 Corr2 :  0.97521666910301\n",
      "3 번째 Corr2 :  0.9660441147874228\n"
     ]
    }
   ],
   "source": [
    "for i in range(len(window)-1):\n",
    "    array = np.corrcoef(signals[window[i][0]:window[i][1]], signals[window[i+1][0]:window[i+1][1]])\n",
    "    print(i+2,\"번째 Corr2 : \",array[0][1])"
   ]
  },
  {
   "cell_type": "code",
   "execution_count": 108,
   "metadata": {},
   "outputs": [
    {
     "name": "stdout",
     "output_type": "stream",
     "text": [
      "8 A\n"
     ]
    }
   ],
   "source": [
    "for idx, item in enumerate(classes[1:], start = 1): #8,A\n",
    "    if item != 'N':\n",
    "        print(idx, item)\n",
    "        break;"
   ]
  },
  {
   "cell_type": "code",
   "execution_count": 122,
   "metadata": {
    "scrolled": true
   },
   "outputs": [
    {
     "data": {
      "image/png": "[encoded data removed]",
      "text/plain": [
       "<Figure size 2160x432 with 1 Axes>"
      ]
     },
     "metadata": {
      "needs_background": "light"
     },
     "output_type": "display_data"
    }
   ],
   "source": [
    "# 그냥 첫번째 N신호 가져옴\n",
    "normal_signal = signals[samples[1]-30:samples[1]+30]\n",
    "plt.plot(normal_signal)\n",
    "plt.show()"
   ]
  },
  {
   "cell_type": "code",
   "execution_count": 126,
   "metadata": {},
   "outputs": [
    {
     "data": {
      "image/png": "[encoded data removed]",
      "text/plain": [
       "<Figure size 2160x432 with 1 Axes>"
      ]
     },
     "metadata": {
      "needs_background": "light"
     },
     "output_type": "display_data"
    }
   ],
   "source": [
    "abnormal_signal = signals[samples[10]-30:samples[10]+30]\n",
    "plt.plot(abnormal_signal)\n",
    "plt.show()"
   ]
  },
  {
   "cell_type": "code",
   "execution_count": 139,
   "metadata": {},
   "outputs": [
    {
     "name": "stdout",
     "output_type": "stream",
     "text": [
      "N    2239\n",
      "A      33\n",
      "V       1\n",
      "/       1\n",
      "Name: 0, dtype: int64\n"
     ]
    },
    {
     "data": {
      "image/png": "[encoded data removed]",
      "text/plain": [
       "<Figure size 1440x720 with 1 Axes>"
      ]
     },
     "metadata": {},
     "output_type": "display_data"
    }
   ],
   "source": [
    "# representation of classes % wise\n",
    "X_train_df = pd.DataFrame(classes)\n",
    "# X_train_df\n",
    "per_class = X_train_df[X_train_df.shape[1]-1].value_counts()\n",
    "# per_class\n",
    "print(per_class)\n",
    "plt.figure(figsize=(20,10))\n",
    "my_circle=plt.Circle( (0,0), 0.7, color='white')\n",
    "plt.pie(per_class, labels=['N', 'L', 'R', 'A', 'V', '/'], colors=['tab:blue','tab:orange','tab:purple','tab:olive','tab:green','tab:red'],autopct='%1.1f%%')\n",
    "p=plt.gcf()\n",
    "p.gca().add_artist(my_circle)\n",
    "plt.show()"
   ]
  },
  {
   "cell_type": "code",
   "execution_count": 127,
   "metadata": {},
   "outputs": [
    {
     "name": "stdout",
     "output_type": "stream",
     "text": [
      "0.9848637652319113\n"
     ]
    }
   ],
   "source": [
    "arr = np.corrcoef(normal_signal, signals[samples[8]-30:samples[8]+30])\n",
    "print(arr[0][1])"
   ]
  },
  {
   "cell_type": "code",
   "execution_count": null,
   "metadata": {},
   "outputs": [],
   "source": [
    "# Train Inputs\n",
    "def get_train_inputs():\n",
    "    x = tf.constant(X_train)\n",
    "    y = tf.constant(y_train)\n",
    "    return x, y"
   ]
  },
  {
   "cell_type": "code",
   "execution_count": null,
   "metadata": {},
   "outputs": [],
   "source": [
    "# Test Inputs\n",
    "def get_test_inputs():\n",
    "    x = tf.constant(X_test)\n",
    "    y = tf.constant(y_test)\n",
    "    return x, y"
   ]
  },
  {
   "cell_type": "code",
   "execution_count": null,
   "metadata": {},
   "outputs": [],
   "source": [
    "# Plot matrix\n",
    "def plot_confusion_matrix(cm, classes,\n",
    "                          normalize=False,\n",
    "                          title='Confusion matrix',\n",
    "                          cmap=plt.cm.Blues):\n",
    "    \"\"\"\n",
    "    This function prints and plots the confusion matrix.\n",
    "    Normalization can be applied by setting `normalize=True`.\n",
    "    \"\"\"\n",
    "    if normalize:\n",
    "        cm = cm.astype('float') / cm.sum(axis=1)[:, np.newaxis]\n",
    "        print(\"Normalized confusion matrix\")\n",
    "    else:\n",
    "        print('Confusion matrix, without normalization')\n",
    "\n",
    "    plt.figure()\n",
    "    plt.imshow(cm, interpolation='nearest', cmap=cmap)\n",
    "    plt.title(title)\n",
    "    plt.colorbar()\n",
    "    tick_marks = np.arange(len(classes))\n",
    "    plt.xticks(tick_marks, classes, rotation=45)\n",
    "    plt.yticks(tick_marks, classes)\n",
    "\n",
    "    fmt = '.2f' if normalize else 'd'\n",
    "    thresh = cm.max() / 2.\n",
    "    for i, j in itertools.product(range(cm.shape[0]), range(cm.shape[1])):\n",
    "        #cm[i, j] = 0 if np.isnan(cm[i, j]) else cm[i, j]\n",
    "        plt.text(j, i, format(cm[i, j], fmt),\n",
    "                 horizontalalignment=\"center\",\n",
    "                 color=\"white\" if cm[i, j] > thresh else \"black\")\n",
    "\n",
    "    plt.tight_layout()\n",
    "    plt.ylabel('True label')\n",
    "    plt.xlabel('Predicted label')\n",
    "    plt.show()"
   ]
  },
  {
   "cell_type": "code",
   "execution_count": null,
   "metadata": {},
   "outputs": [],
   "source": [
    "# Eval data\n",
    "def get_eval_data():\n",
    "    return tf.constant(X_test)"
   ]
  },
  {
   "cell_type": "code",
   "execution_count": null,
   "metadata": {},
   "outputs": [],
   "source": [
    "# Records\n",
    "for r in range(0,len(records)):\n",
    "# for r in range(2, 3):\n",
    "    signals = []\n",
    "\n",
    "    with open(records[r], 'rt') as csvfile:\n",
    "        spamreader = csv.reader(csvfile, delimiter=',', quotechar='|') # read CSV file\\\n",
    "        row_index = -1\n",
    "        for row in spamreader:\n",
    "            if(row_index >= 0):\n",
    "                signals.insert(row_index, int(row[1]))\n",
    "            row_index += 1\n",
    "            \n",
    "    if r == 0:\n",
    "        with open(annotations[r],'r') as fileID:\n",
    "            data = fileID.readlines()\n",
    "#         next(data)\n",
    "        print(data)\n",
    "            splitted = data[0].split('    ')\n",
    "            splitted = filter(None, splitted)\n",
    "            print(splitted)\n",
    "            splitted = filter(None, splitted)\n",
    "            next(splitted)\n",
    "            pos = int(next(splitted))\n",
    "            arrhythmia_type = next(splitted)\n",
    "        print(arrhythmia_type)\n",
    "        Plot each patient's signal\n",
    "        print(len(signals))\n",
    "        plt.title(records[1] + \" Wave\")\n",
    "        plt.plot(signals[:370])\n",
    "        plt.show()\n",
    "\n",
    "#     # Read anotations: R position and Arrhythmia class\n",
    "#     with open(annotations[r], 'r') as fileID:\n",
    "#         data = fileID.readlines() \n",
    "#         beat = list()\n",
    "\n",
    "#         for d in range(1, len(data)): # 0 index is Chart Head\n",
    "#             splitted = data[d].split(' ')\n",
    "#             splitted = filter(None, splitted)\n",
    "#             next(splitted) # Time... Clipping\n",
    "#             pos = int(next(splitted)) # Sample ID\n",
    "#             arrhythmia_type = next(splitted) # Type\n",
    "#             if(arrhythmia_type in classes):\n",
    "#                 arrhythmia_index = classes.index(arrhythmia_type)\n",
    "#                 if count_classes[arrhythmia_index] > maximum_counting: # avoid overfitting\n",
    "#                     pass\n",
    "#                 else:\n",
    "#                     count_classes[arrhythmia_index] += 1\n",
    "#                     if(window_size < pos and pos < (len(signals) - window_size)):\n",
    "#                         beat = signals[pos-window_size+1:pos+window_size]\n",
    "#                         X.append(beat)\n",
    "#                         y.append(arrhythmia_index)"
   ]
  },
  {
   "cell_type": "code",
   "execution_count": null,
   "metadata": {},
   "outputs": [],
   "source": [
    "# Records\n",
    "for r in range(0,len(records)):\n",
    "# for r in range(2, 3):\n",
    "    signals = []\n",
    "\n",
    "    with open(records[r], 'rt') as csvfile:\n",
    "        spamreader = csv.reader(csvfile, delimiter=',', quotechar='|') # read CSV file\\\n",
    "        row_index = -1\n",
    "        for row in spamreader:\n",
    "            if(row_index >= 0):\n",
    "                signals.insert(row_index, int(row[1]))\n",
    "            row_index += 1\n",
    "            \n",
    "    if r is 1:\n",
    "        # Plot each patient's signal\n",
    "        plt.title(records[0] + \" Wave\")\n",
    "        plt.plot(signals)\n",
    "        plt.show()\n",
    "\n",
    "#     # Read anotations: R position and Arrhythmia class\n",
    "#     with open(annotations[r], 'r') as fileID:\n",
    "#         data = fileID.readlines() \n",
    "#         beat = list()\n",
    "\n",
    "#         for d in range(1, len(data)): # 0 index is Chart Head\n",
    "#             splitted = data[d].split(' ')\n",
    "#             splitted = filter(None, splitted)\n",
    "#             next(splitted) # Time... Clipping\n",
    "#             pos = int(next(splitted)) # Sample ID\n",
    "#             arrhythmia_type = next(splitted) # Type\n",
    "#             if(arrhythmia_type in classes):\n",
    "#                 arrhythmia_index = classes.index(arrhythmia_type)\n",
    "#                 if count_classes[arrhythmia_index] > maximum_counting: # avoid overfitting\n",
    "#                     pass\n",
    "#                 else:\n",
    "#                     count_classes[arrhythmia_index] += 1\n",
    "#                     if(window_size < pos and pos < (len(signals) - window_size)):\n",
    "#                         beat = signals[pos-window_size+1:pos+window_size]\n",
    "#                         X.append(beat)\n",
    "#                         y.append(arrhythmia_index)"
   ]
  },
  {
   "cell_type": "code",
   "execution_count": null,
   "metadata": {},
   "outputs": [],
   "source": [
    "y"
   ]
  },
  {
   "cell_type": "code",
   "execution_count": null,
   "metadata": {},
   "outputs": [],
   "source": [
    "plt.plot(X[0])\n",
    "print(y[0])"
   ]
  },
  {
   "cell_type": "code",
   "execution_count": null,
   "metadata": {},
   "outputs": [],
   "source": [
    "for i in range(0,len(X)):\n",
    "        X[i].append(y[i])\n",
    "\n",
    "print(np.shape(X))"
   ]
  },
  {
   "cell_type": "code",
   "execution_count": null,
   "metadata": {},
   "outputs": [],
   "source": [
    "plt.plot(X[1])"
   ]
  },
  {
   "cell_type": "code",
   "execution_count": null,
   "metadata": {},
   "outputs": [],
   "source": [
    "plt.plot(X[2])"
   ]
  },
  {
   "cell_type": "code",
   "execution_count": null,
   "metadata": {},
   "outputs": [],
   "source": [
    "plt.plot(X[3])"
   ]
  },
  {
   "cell_type": "code",
   "execution_count": null,
   "metadata": {
    "scrolled": true
   },
   "outputs": [],
   "source": [
    "plt.plot(X[4])"
   ]
  },
  {
   "cell_type": "code",
   "execution_count": null,
   "metadata": {},
   "outputs": [],
   "source": []
  }
 ],
 "metadata": {
  "kernelspec": {
   "display_name": "Python 3",
   "language": "python",
   "name": "python3"
  },
  "language_info": {
   "codemirror_mode": {
    "name": "ipython",
    "version": 3
   },
   "file_extension": ".py",
   "mimetype": "text/x-python",
   "name": "python",
   "nbconvert_exporter": "python",
   "pygments_lexer": "ipython3",
   "version": "3.8.5"
  }
 },
 "nbformat": 4,
 "nbformat_minor": 4
}
