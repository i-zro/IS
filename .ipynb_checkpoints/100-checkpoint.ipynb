{
 "cells": [
  {
   "cell_type": "code",
   "execution_count": 1,
   "metadata": {},
   "outputs": [],
   "source": [
    "import numpy as np\n",
    "import matplotlib.pyplot as plt\n",
    "import pandas as pd\n",
    "from scipy.signal import find_peaks"
   ]
  },
  {
   "cell_type": "code",
   "execution_count": 2,
   "metadata": {},
   "outputs": [],
   "source": [
    "data100 = pd.read_csv('./100.csv')"
   ]
  },
  {
   "cell_type": "code",
   "execution_count": 3,
   "metadata": {},
   "outputs": [
    {
     "data": {
      "text/html": [
       "<div>\n",
       "<style scoped>\n",
       "    .dataframe tbody tr th:only-of-type {\n",
       "        vertical-align: middle;\n",
       "    }\n",
       "\n",
       "    .dataframe tbody tr th {\n",
       "        vertical-align: top;\n",
       "    }\n",
       "\n",
       "    .dataframe thead th {\n",
       "        text-align: right;\n",
       "    }\n",
       "</style>\n",
       "<table border=\"1\" class=\"dataframe\">\n",
       "  <thead>\n",
       "    <tr style=\"text-align: right;\">\n",
       "      <th></th>\n",
       "      <th>'sample #'</th>\n",
       "      <th>'MLII'</th>\n",
       "      <th>'V5'</th>\n",
       "    </tr>\n",
       "  </thead>\n",
       "  <tbody>\n",
       "    <tr>\n",
       "      <th>0</th>\n",
       "      <td>0</td>\n",
       "      <td>995</td>\n",
       "      <td>1011</td>\n",
       "    </tr>\n",
       "    <tr>\n",
       "      <th>1</th>\n",
       "      <td>1</td>\n",
       "      <td>995</td>\n",
       "      <td>1011</td>\n",
       "    </tr>\n",
       "    <tr>\n",
       "      <th>2</th>\n",
       "      <td>2</td>\n",
       "      <td>995</td>\n",
       "      <td>1011</td>\n",
       "    </tr>\n",
       "    <tr>\n",
       "      <th>3</th>\n",
       "      <td>3</td>\n",
       "      <td>995</td>\n",
       "      <td>1011</td>\n",
       "    </tr>\n",
       "    <tr>\n",
       "      <th>4</th>\n",
       "      <td>4</td>\n",
       "      <td>995</td>\n",
       "      <td>1011</td>\n",
       "    </tr>\n",
       "  </tbody>\n",
       "</table>\n",
       "</div>"
      ],
      "text/plain": [
       "   'sample #'  'MLII'  'V5'\n",
       "0           0     995  1011\n",
       "1           1     995  1011\n",
       "2           2     995  1011\n",
       "3           3     995  1011\n",
       "4           4     995  1011"
      ]
     },
     "execution_count": 3,
     "metadata": {},
     "output_type": "execute_result"
    }
   ],
   "source": [
    "data100.head()"
   ]
  },
  {
   "cell_type": "code",
   "execution_count": 4,
   "metadata": {},
   "outputs": [],
   "source": [
    "volt_step = 10/(2**11)\n",
    "data100[\"'MLII'\"] = (data100[\"'MLII'\"] * volt_step)\n",
    "data100[\"'V5'\"] = (data100[\"'V5'\"] * volt_step)"
   ]
  },
  {
   "cell_type": "code",
   "execution_count": 5,
   "metadata": {},
   "outputs": [
    {
     "data": {
      "text/html": [
       "<div>\n",
       "<style scoped>\n",
       "    .dataframe tbody tr th:only-of-type {\n",
       "        vertical-align: middle;\n",
       "    }\n",
       "\n",
       "    .dataframe tbody tr th {\n",
       "        vertical-align: top;\n",
       "    }\n",
       "\n",
       "    .dataframe thead th {\n",
       "        text-align: right;\n",
       "    }\n",
       "</style>\n",
       "<table border=\"1\" class=\"dataframe\">\n",
       "  <thead>\n",
       "    <tr style=\"text-align: right;\">\n",
       "      <th></th>\n",
       "      <th>'sample #'</th>\n",
       "      <th>'MLII'</th>\n",
       "      <th>'V5'</th>\n",
       "    </tr>\n",
       "  </thead>\n",
       "  <tbody>\n",
       "    <tr>\n",
       "      <th>0</th>\n",
       "      <td>0</td>\n",
       "      <td>4.858398</td>\n",
       "      <td>4.936523</td>\n",
       "    </tr>\n",
       "    <tr>\n",
       "      <th>1</th>\n",
       "      <td>1</td>\n",
       "      <td>4.858398</td>\n",
       "      <td>4.936523</td>\n",
       "    </tr>\n",
       "    <tr>\n",
       "      <th>2</th>\n",
       "      <td>2</td>\n",
       "      <td>4.858398</td>\n",
       "      <td>4.936523</td>\n",
       "    </tr>\n",
       "    <tr>\n",
       "      <th>3</th>\n",
       "      <td>3</td>\n",
       "      <td>4.858398</td>\n",
       "      <td>4.936523</td>\n",
       "    </tr>\n",
       "    <tr>\n",
       "      <th>4</th>\n",
       "      <td>4</td>\n",
       "      <td>4.858398</td>\n",
       "      <td>4.936523</td>\n",
       "    </tr>\n",
       "  </tbody>\n",
       "</table>\n",
       "</div>"
      ],
      "text/plain": [
       "   'sample #'    'MLII'      'V5'\n",
       "0           0  4.858398  4.936523\n",
       "1           1  4.858398  4.936523\n",
       "2           2  4.858398  4.936523\n",
       "3           3  4.858398  4.936523\n",
       "4           4  4.858398  4.936523"
      ]
     },
     "execution_count": 5,
     "metadata": {},
     "output_type": "execute_result"
    }
   ],
   "source": [
    "data100.head()"
   ]
  },
  {
   "cell_type": "code",
   "execution_count": null,
   "metadata": {},
   "outputs": [],
   "source": []
  },
  {
   "cell_type": "code",
   "execution_count": 6,
   "metadata": {
    "scrolled": true
   },
   "outputs": [
    {
     "name": "stdout",
     "output_type": "stream",
     "text": [
      "<class 'pandas.core.frame.DataFrame'>\n",
      "RangeIndex: 650000 entries, 0 to 649999\n",
      "Data columns (total 3 columns):\n",
      "'sample #'    650000 non-null int64\n",
      "'MLII'        650000 non-null float64\n",
      "'V5'          650000 non-null float64\n",
      "dtypes: float64(2), int64(1)\n",
      "memory usage: 14.9 MB\n"
     ]
    }
   ],
   "source": [
    "data100.info()"
   ]
  },
  {
   "cell_type": "code",
   "execution_count": 7,
   "metadata": {},
   "outputs": [
    {
     "data": {
      "text/plain": [
       "array([0.0000000e+00, 2.7000000e-03, 5.4000000e-03, ..., 1.7549919e+03,\n",
       "       1.7549946e+03, 1.7549973e+03])"
      ]
     },
     "execution_count": 7,
     "metadata": {},
     "output_type": "execute_result"
    }
   ],
   "source": [
    "sec_step = 0.0027\n",
    "sample_num = 650000\n",
    "total_time = sec_step * sample_num\n",
    "\n",
    "second = np.arange(0, total_time, sec_step)\n",
    "second"
   ]
  },
  {
   "cell_type": "markdown",
   "metadata": {},
   "source": [
    "plt.figure(figsize = (510,100))\n",
    "plt.plot(second, data100[\"'MLII'\"], 'r')"
   ]
  },
  {
   "cell_type": "code",
   "execution_count": 8,
   "metadata": {},
   "outputs": [],
   "source": [
    "num = 100 ##행 개수\n",
    "end = sec_step * num\n",
    "\n",
    "data100_MLII = data100[\"'MLII'\"]\n",
    "data100_MLII -= data100[\"'MLII'\"][0] ## MLII의 첫번째 행을 빼서 0으로 만듦\n",
    "data100_MLII100 = data100_MLII.iloc[:num]\n",
    "second_ = np.arange(0, end, sec_step)"
   ]
  },
  {
   "cell_type": "code",
   "execution_count": 9,
   "metadata": {
    "scrolled": true
   },
   "outputs": [
    {
     "data": {
      "text/plain": [
       "[<matplotlib.lines.Line2D at 0x2d5b5b7c588>]"
      ]
     },
     "execution_count": 9,
     "metadata": {},
     "output_type": "execute_result"
    },
    {
     "data": {
      "image/png": "[encoded data removed]",
      "text/plain": [
       "<Figure size 432x288 with 1 Axes>"
      ]
     },
     "metadata": {
      "needs_background": "light"
     },
     "output_type": "display_data"
    }
   ],
   "source": [
    "plt.plot(second_, data100_MLII100, 'r')"
   ]
  },
  {
   "cell_type": "code",
   "execution_count": null,
   "metadata": {},
   "outputs": [],
   "source": []
  },
  {
   "cell_type": "code",
   "execution_count": null,
   "metadata": {},
   "outputs": [],
   "source": []
  },
  {
   "cell_type": "code",
   "execution_count": 10,
   "metadata": {},
   "outputs": [
    {
     "data": {
      "text/plain": [
       "[<matplotlib.lines.Line2D at 0x2d5b740d0c8>]"
      ]
     },
     "execution_count": 10,
     "metadata": {},
     "output_type": "execute_result"
    },
    {
     "data": {
      "image/png": "[encoded data removed]",
      "text/plain": [
       "<Figure size 432x288 with 1 Axes>"
      ]
     },
     "metadata": {
      "needs_background": "light"
     },
     "output_type": "display_data"
    }
   ],
   "source": [
    "num = 1800\n",
    "end = sec_step*num\n",
    "\n",
    "data100_MLII800 = data100_MLII.iloc[:num]\n",
    "second_2 = np.arange(0, end, sec_step)\n",
    "\n",
    "\n",
    "plt.plot(second_2, data100_MLII800, 'r')"
   ]
  },
  {
   "cell_type": "code",
   "execution_count": null,
   "metadata": {},
   "outputs": [],
   "source": []
  },
  {
   "cell_type": "code",
   "execution_count": null,
   "metadata": {},
   "outputs": [],
   "source": []
  },
  {
   "cell_type": "code",
   "execution_count": 11,
   "metadata": {},
   "outputs": [
    {
     "name": "stdout",
     "output_type": "stream",
     "text": [
      "-0.33203125\n",
      "-0.33203125\n"
     ]
    }
   ],
   "source": [
    "print(data100_MLII800[67])\n",
    "print(data100_MLII800[68])"
   ]
  },
  {
   "cell_type": "code",
   "execution_count": 12,
   "metadata": {},
   "outputs": [
    {
     "name": "stdout",
     "output_type": "stream",
     "text": [
      "[67, 360, 654, 936, 1222, 1505]\n",
      "[  77  370  663  947 1231 1515]\n",
      "[83, 379, 669, 953, 1237, 1521]\n"
     ]
    }
   ],
   "source": [
    "R = find_peaks(data100_MLII800, prominence = 1)\n",
    "\n",
    "R = R[0]\n",
    "S = []\n",
    "Q = []\n",
    "for i in range(len(R)):\n",
    "    a = R[i]\n",
    "    while data100_MLII800[a] - data100_MLII800[a-1] >= 0:\n",
    "        a -= 1\n",
    "    Q.append(a)\n",
    "    \n",
    "    a = R[i]\n",
    "    while data100_MLII800[a+1] - data100_MLII800[a] <= 0:\n",
    "        a += 1\n",
    "    S.append(a)\n",
    "\n",
    "print(Q)\n",
    "print(R)\n",
    "print(S)"
   ]
  },
  {
   "cell_type": "code",
   "execution_count": 13,
   "metadata": {
    "scrolled": true
   },
   "outputs": [
    {
     "data": {
      "image/png": "[encoded data removed]",
      "text/plain": [
       "<Figure size 1296x288 with 1 Axes>"
      ]
     },
     "metadata": {
      "needs_background": "light"
     },
     "output_type": "display_data"
    }
   ],
   "source": [
    "plt.figure(figsize=(18,4))\n",
    "plt.plot(Q, data100_MLII800[Q], \"xg\")\n",
    "plt.plot(R, data100_MLII800[R], \"ob\")\n",
    "plt.plot(S, data100_MLII800[S], \"vy\")\n",
    "\n",
    "plt.plot(data100_MLII800, \"r\")\n",
    "\n",
    "plt.legend(['Q','R','S','MLII'],loc = 'upper right')\n",
    "plt.grid()"
   ]
  },
  {
   "cell_type": "code",
   "execution_count": null,
   "metadata": {},
   "outputs": [],
   "source": []
  },
  {
   "cell_type": "markdown",
   "metadata": {},
   "source": [
    "# Window"
   ]
  },
  {
   "cell_type": "markdown",
   "metadata": {},
   "source": [
    "beat = []\n",
    "\n",
    "Q_val = []\n",
    "R_val = []\n",
    "S_val = []\n",
    "\n",
    "window = 100\n",
    "\n",
    "RR = []\n",
    "Ratio = []\n",
    "\n",
    "for i in range(len(R)):\n",
    "    r_idx = R[i]\n",
    "    r_val = data100_MLII800[r_idx]\n",
    "    \n",
    "    ECG = data100_MLII800\n",
    "    \n",
    "    beat.append(ECG.iloc[r_idx - window : r_idx + window])\n",
    "    # ECG beat\n",
    "    \n",
    "    Q_val.append(ECG[Q[i]])\n",
    "    R_val.append(ECG[R[i]])\n",
    "    S_val.append(ECG[S[i]])\n",
    "    # value\n",
    "    \n",
    "    if i > len(R)-2: RR.append(None)\n",
    "    else: RR.append(R[i+1]-R[i])\n",
    "    \n",
    "#############\n",
    "    if i > len(R)-2:\n",
    "        RR[2].append(None)\n",
    "    \n",
    "    else:\n",
    "        RR[2].append(R[i+1]-R[i])\n",
    "    \n",
    "    if i>1:\n",
    "        RR[0].append(R[i-1]-R[i-2])\n",
    "        RR[1].append(R[i]-R[i-1])\n",
    "    elif i>0:\n",
    "        RR[0].append(None)\n",
    "        RR[1].append(R[i]-R[i-1])\n",
    "    else:\n",
    "        RR[0].append(None)\n",
    "        RR[1].append(None)\n",
    "    # RR        \n",
    "    \n",
    "    ECG = data100_MLII800/r_val\n",
    "    # normalize\n",
    "    \n",
    "    A = []\n",
    "    for j in range(Q[i],R[i]-1):\n",
    "        if ECG[j]<0.5 and ECG[j+1]>=0.5:\n",
    "            A.append(j)\n",
    "            break\n",
    "    for j in range(R[i],S[i]):\n",
    "        if ECG[j]>0.5 and ECG[j+1]<=0.5:\n",
    "            A.append(j)\n",
    "            break       \n",
    "    \n",
    "    A = (A[1]-A[0])*sec_step\n",
    "    # A\n",
    "    \n",
    "    \n",
    "    "
   ]
  },
  {
   "cell_type": "code",
   "execution_count": 45,
   "metadata": {},
   "outputs": [],
   "source": [
    "Q_val = []\n",
    "R_val = []\n",
    "S_val = []\n",
    "\n",
    "window = 100\n",
    "\n",
    "RR_ = [None,None]\n",
    "A = []\n",
    "\n",
    "for i in range(len(R)):\n",
    "    r_idx = R[i]\n",
    "    r_val = data100_MLII800[r_idx]\n",
    "    \n",
    "    ECG = data100_MLII800\n",
    "    \n",
    "    Q_val.append(ECG[Q[i]])\n",
    "    R_val.append(ECG[R[i]])\n",
    "    S_val.append(ECG[S[i]])\n",
    "    # value(amplitude)\n",
    "    \n",
    "    if i > len(R)-2: RR_.append(None)\n",
    "    else: RR_.append((R[i+1]-R[i])*sec_step)\n",
    "    # RR        \n",
    "    \n",
    "    ECG = ECG/r_val\n",
    "    # normalize\n",
    "    \n",
    "    for j in range(Q[i],R[i]-1):\n",
    "        if ECG[j]<0.5 and ECG[j+1]>=0.5:\n",
    "            A1 = j\n",
    "            break\n",
    "    for j in range(R[i],S[i]):\n",
    "        if ECG[j]>0.5 and ECG[j+1]<=0.5:\n",
    "            A2 = j\n",
    "            break\n",
    "    A.append((A2-A1)*sec_step)\n",
    "    # A"
   ]
  },
  {
   "cell_type": "code",
   "execution_count": 46,
   "metadata": {},
   "outputs": [
    {
     "name": "stdout",
     "output_type": "stream",
     "text": [
      "[None, None, 0.7911, 0.7911, 0.7668, 0.7668, 0.7668, None]\n",
      "[0.0162, 0.0189, 0.0162, 0.0162, 0.013500000000000002, 0.013500000000000002]\n"
     ]
    }
   ],
   "source": [
    "print(RR_)\n",
    "print(A)"
   ]
  },
  {
   "cell_type": "code",
   "execution_count": 47,
   "metadata": {},
   "outputs": [],
   "source": [
    "RR = [[],[],[],[]] #RR[0]:RR0, RR[1]:RR1, RR[2]:RR2, RR[3]:RRm\n",
    "ratio = [[],[],[]] #ratio[0]:Ratio1, ratio[1]:Ratio2, ratio[2]:Ratio3\n",
    "\n",
    "for i in range(len(R)):\n",
    "    RR[0].append(RR_[i])\n",
    "    RR[1].append(RR_[i+1])\n",
    "    RR[2].append(RR_[i+2])\n",
    "    \n",
    "    m = 0\n",
    "    c = 0\n",
    "    if RR[2][i]!=None:\n",
    "        m += RR[2][i]\n",
    "        c += 1\n",
    "    if RR[1][i]!=None:\n",
    "        m += RR[1][i]\n",
    "        c += 1\n",
    "    if RR[0][i]!=None:\n",
    "        m += RR[0][i]\n",
    "        c += 1\n",
    "    RR[3].append(m/c)\n",
    "\n",
    "for i in range(len(R)):\n",
    "    if RR[1][i]==None:\n",
    "        for j in range(3):\n",
    "            ratio[j].append(None)\n",
    "    else:  \n",
    "        for j in range(3):\n",
    "            idx = j\n",
    "            if j>0: idx +=1\n",
    "\n",
    "            if RR[idx][i]==None:\n",
    "                ratio[j].append(None)\n",
    "            else:\n",
    "                ratio[j].append(RR[idx][i]/RR[1][i])"
   ]
  },
  {
   "cell_type": "code",
   "execution_count": 48,
   "metadata": {},
   "outputs": [
    {
     "name": "stdout",
     "output_type": "stream",
     "text": [
      "6 6 6\n",
      "6 6 6\n",
      "[[None, None, 1.0, 1.0316901408450705, 1.0, 1.0], [None, 1.0, 0.9692832764505119, 1.0, 1.0, None], [None, 1.0, 0.9897610921501706, 1.0105633802816902, 1.0, 1.0]]\n",
      "[0.7911, 0.7911, 0.783, 0.7749, 0.7668, 0.7668]\n"
     ]
    }
   ],
   "source": [
    "print(len(RR[0]),len(RR[1]),len(RR[2]))\n",
    "print(len(ratio[0]),len(ratio[1]),len(ratio[2]))\n",
    "print(ratio)\n",
    "print(RR[3])"
   ]
  },
  {
   "cell_type": "code",
   "execution_count": 49,
   "metadata": {},
   "outputs": [
    {
     "data": {
      "text/html": [
       "<div>\n",
       "<style scoped>\n",
       "    .dataframe tbody tr th:only-of-type {\n",
       "        vertical-align: middle;\n",
       "    }\n",
       "\n",
       "    .dataframe tbody tr th {\n",
       "        vertical-align: top;\n",
       "    }\n",
       "\n",
       "    .dataframe thead th {\n",
       "        text-align: right;\n",
       "    }\n",
       "</style>\n",
       "<table border=\"1\" class=\"dataframe\">\n",
       "  <thead>\n",
       "    <tr style=\"text-align: right;\">\n",
       "      <th></th>\n",
       "      <th>beat</th>\n",
       "      <th>Q_idx</th>\n",
       "      <th>R_idx</th>\n",
       "      <th>S_idx</th>\n",
       "      <th>Q</th>\n",
       "      <th>R</th>\n",
       "      <th>S</th>\n",
       "      <th>RR0</th>\n",
       "      <th>RR1</th>\n",
       "      <th>RR2</th>\n",
       "      <th>R0_1</th>\n",
       "      <th>R2_1</th>\n",
       "      <th>RM_1</th>\n",
       "      <th>A</th>\n",
       "    </tr>\n",
       "  </thead>\n",
       "  <tbody>\n",
       "    <tr>\n",
       "      <th>0</th>\n",
       "      <td>Series([], Name: 'MLII', dtype: float64)</td>\n",
       "      <td>67</td>\n",
       "      <td>77</td>\n",
       "      <td>83</td>\n",
       "      <td>-0.332031</td>\n",
       "      <td>0.961914</td>\n",
       "      <td>-0.283203</td>\n",
       "      <td>NaN</td>\n",
       "      <td>NaN</td>\n",
       "      <td>0.7911</td>\n",
       "      <td>NaN</td>\n",
       "      <td>NaN</td>\n",
       "      <td>NaN</td>\n",
       "      <td>0.0162</td>\n",
       "    </tr>\n",
       "    <tr>\n",
       "      <th>1</th>\n",
       "      <td>270   -0.166016\n",
       "271   -0.151367\n",
       "272   -0.15625...</td>\n",
       "      <td>360</td>\n",
       "      <td>370</td>\n",
       "      <td>379</td>\n",
       "      <td>-0.380859</td>\n",
       "      <td>1.059570</td>\n",
       "      <td>-0.322266</td>\n",
       "      <td>NaN</td>\n",
       "      <td>0.7911</td>\n",
       "      <td>0.7911</td>\n",
       "      <td>NaN</td>\n",
       "      <td>1.000000</td>\n",
       "      <td>1.000000</td>\n",
       "      <td>0.0189</td>\n",
       "    </tr>\n",
       "    <tr>\n",
       "      <th>2</th>\n",
       "      <td>563   -0.195312\n",
       "564   -0.195312\n",
       "565   -0.18066...</td>\n",
       "      <td>654</td>\n",
       "      <td>663</td>\n",
       "      <td>669</td>\n",
       "      <td>-0.415039</td>\n",
       "      <td>1.079102</td>\n",
       "      <td>-0.351562</td>\n",
       "      <td>0.7911</td>\n",
       "      <td>0.7911</td>\n",
       "      <td>0.7668</td>\n",
       "      <td>1.00000</td>\n",
       "      <td>0.969283</td>\n",
       "      <td>0.989761</td>\n",
       "      <td>0.0162</td>\n",
       "    </tr>\n",
       "    <tr>\n",
       "      <th>3</th>\n",
       "      <td>847    -0.195312\n",
       "848    -0.195312\n",
       "849    -0.19...</td>\n",
       "      <td>936</td>\n",
       "      <td>947</td>\n",
       "      <td>953</td>\n",
       "      <td>-0.488281</td>\n",
       "      <td>0.981445</td>\n",
       "      <td>-0.366211</td>\n",
       "      <td>0.7911</td>\n",
       "      <td>0.7668</td>\n",
       "      <td>0.7668</td>\n",
       "      <td>1.03169</td>\n",
       "      <td>1.000000</td>\n",
       "      <td>1.010563</td>\n",
       "      <td>0.0162</td>\n",
       "    </tr>\n",
       "    <tr>\n",
       "      <th>4</th>\n",
       "      <td>1131   -0.200195\n",
       "1132   -0.200195\n",
       "1133   -0.20...</td>\n",
       "      <td>1222</td>\n",
       "      <td>1231</td>\n",
       "      <td>1237</td>\n",
       "      <td>-0.410156</td>\n",
       "      <td>0.942383</td>\n",
       "      <td>-0.346680</td>\n",
       "      <td>0.7668</td>\n",
       "      <td>0.7668</td>\n",
       "      <td>0.7668</td>\n",
       "      <td>1.00000</td>\n",
       "      <td>1.000000</td>\n",
       "      <td>1.000000</td>\n",
       "      <td>0.0135</td>\n",
       "    </tr>\n",
       "    <tr>\n",
       "      <th>5</th>\n",
       "      <td>1415   -0.180664\n",
       "1416   -0.166016\n",
       "1417   -0.16...</td>\n",
       "      <td>1505</td>\n",
       "      <td>1515</td>\n",
       "      <td>1521</td>\n",
       "      <td>-0.390625</td>\n",
       "      <td>1.005859</td>\n",
       "      <td>-0.346680</td>\n",
       "      <td>0.7668</td>\n",
       "      <td>0.7668</td>\n",
       "      <td>NaN</td>\n",
       "      <td>1.00000</td>\n",
       "      <td>NaN</td>\n",
       "      <td>1.000000</td>\n",
       "      <td>0.0135</td>\n",
       "    </tr>\n",
       "  </tbody>\n",
       "</table>\n",
       "</div>"
      ],
      "text/plain": [
       "                                                beat  Q_idx  R_idx  S_idx  \\\n",
       "0           Series([], Name: 'MLII', dtype: float64)     67     77     83   \n",
       "1  270   -0.166016\n",
       "271   -0.151367\n",
       "272   -0.15625...    360    370    379   \n",
       "2  563   -0.195312\n",
       "564   -0.195312\n",
       "565   -0.18066...    654    663    669   \n",
       "3  847    -0.195312\n",
       "848    -0.195312\n",
       "849    -0.19...    936    947    953   \n",
       "4  1131   -0.200195\n",
       "1132   -0.200195\n",
       "1133   -0.20...   1222   1231   1237   \n",
       "5  1415   -0.180664\n",
       "1416   -0.166016\n",
       "1417   -0.16...   1505   1515   1521   \n",
       "\n",
       "          Q         R         S     RR0     RR1     RR2     R0_1      R2_1  \\\n",
       "0 -0.332031  0.961914 -0.283203     NaN     NaN  0.7911      NaN       NaN   \n",
       "1 -0.380859  1.059570 -0.322266     NaN  0.7911  0.7911      NaN  1.000000   \n",
       "2 -0.415039  1.079102 -0.351562  0.7911  0.7911  0.7668  1.00000  0.969283   \n",
       "3 -0.488281  0.981445 -0.366211  0.7911  0.7668  0.7668  1.03169  1.000000   \n",
       "4 -0.410156  0.942383 -0.346680  0.7668  0.7668  0.7668  1.00000  1.000000   \n",
       "5 -0.390625  1.005859 -0.346680  0.7668  0.7668     NaN  1.00000       NaN   \n",
       "\n",
       "       RM_1       A  \n",
       "0       NaN  0.0162  \n",
       "1  1.000000  0.0189  \n",
       "2  0.989761  0.0162  \n",
       "3  1.010563  0.0162  \n",
       "4  1.000000  0.0135  \n",
       "5  1.000000  0.0135  "
      ]
     },
     "execution_count": 49,
     "metadata": {},
     "output_type": "execute_result"
    }
   ],
   "source": [
    "arr = {\n",
    "    \"beat\" : beat,\n",
    "    \"Q_idx\" : Q, \"R_idx\" : R, \"S_idx\" : S,\n",
    "    \"Q\" : Q_val, \"R\" : R_val, \"S\" : S_val,\n",
    "    \"RR0\" : RR[0], \"RR1\":RR[1], \"RR2\":RR[2],\n",
    "    \"R0_1\":ratio[0], \"R2_1\":ratio[1], \"RM_1\":ratio[2],\n",
    "    \"A\" : A\n",
    "}\n",
    "\n",
    "arr = pd.DataFrame(arr)\n",
    "arr"
   ]
  },
  {
   "cell_type": "code",
   "execution_count": null,
   "metadata": {},
   "outputs": [],
   "source": []
  },
  {
   "cell_type": "code",
   "execution_count": null,
   "metadata": {},
   "outputs": [],
   "source": []
  },
  {
   "cell_type": "code",
   "execution_count": 37,
   "metadata": {},
   "outputs": [
    {
     "data": {
      "text/html": [
       "<div>\n",
       "<style scoped>\n",
       "    .dataframe tbody tr th:only-of-type {\n",
       "        vertical-align: middle;\n",
       "    }\n",
       "\n",
       "    .dataframe tbody tr th {\n",
       "        vertical-align: top;\n",
       "    }\n",
       "\n",
       "    .dataframe thead th {\n",
       "        text-align: right;\n",
       "    }\n",
       "</style>\n",
       "<table border=\"1\" class=\"dataframe\">\n",
       "  <thead>\n",
       "    <tr style=\"text-align: right;\">\n",
       "      <th></th>\n",
       "      <th>beat</th>\n",
       "      <th>Q_idx</th>\n",
       "      <th>R_idx</th>\n",
       "      <th>S_idx</th>\n",
       "      <th>Q</th>\n",
       "      <th>R</th>\n",
       "      <th>S</th>\n",
       "      <th>RR0</th>\n",
       "      <th>RR1</th>\n",
       "      <th>RR2</th>\n",
       "      <th>A</th>\n",
       "    </tr>\n",
       "  </thead>\n",
       "  <tbody>\n",
       "    <tr>\n",
       "      <th>0</th>\n",
       "      <td>Series([], Name: 'MLII', dtype: float64)</td>\n",
       "      <td>67</td>\n",
       "      <td>77</td>\n",
       "      <td>83</td>\n",
       "      <td>-0.332031</td>\n",
       "      <td>0.961914</td>\n",
       "      <td>-0.283203</td>\n",
       "      <td>NaN</td>\n",
       "      <td>NaN</td>\n",
       "      <td>0.0</td>\n",
       "      <td>0.0162</td>\n",
       "    </tr>\n",
       "    <tr>\n",
       "      <th>1</th>\n",
       "      <td>270   -0.166016\n",
       "271   -0.151367\n",
       "272   -0.15625...</td>\n",
       "      <td>360</td>\n",
       "      <td>370</td>\n",
       "      <td>379</td>\n",
       "      <td>-0.380859</td>\n",
       "      <td>1.059570</td>\n",
       "      <td>-0.322266</td>\n",
       "      <td>NaN</td>\n",
       "      <td>0.0</td>\n",
       "      <td>0.0</td>\n",
       "      <td>0.0162</td>\n",
       "    </tr>\n",
       "    <tr>\n",
       "      <th>2</th>\n",
       "      <td>563   -0.195312\n",
       "564   -0.195312\n",
       "565   -0.18066...</td>\n",
       "      <td>654</td>\n",
       "      <td>663</td>\n",
       "      <td>669</td>\n",
       "      <td>-0.415039</td>\n",
       "      <td>1.079102</td>\n",
       "      <td>-0.351562</td>\n",
       "      <td>293.0</td>\n",
       "      <td>293.0</td>\n",
       "      <td>NaN</td>\n",
       "      <td>0.0162</td>\n",
       "    </tr>\n",
       "  </tbody>\n",
       "</table>\n",
       "</div>"
      ],
      "text/plain": [
       "                                                beat  Q_idx  R_idx  S_idx  \\\n",
       "0           Series([], Name: 'MLII', dtype: float64)     67     77     83   \n",
       "1  270   -0.166016\n",
       "271   -0.151367\n",
       "272   -0.15625...    360    370    379   \n",
       "2  563   -0.195312\n",
       "564   -0.195312\n",
       "565   -0.18066...    654    663    669   \n",
       "\n",
       "          Q         R         S    RR0    RR1  RR2       A  \n",
       "0 -0.332031  0.961914 -0.283203    NaN    NaN  0.0  0.0162  \n",
       "1 -0.380859  1.059570 -0.322266    NaN    0.0  0.0  0.0162  \n",
       "2 -0.415039  1.079102 -0.351562  293.0  293.0  NaN  0.0162  "
      ]
     },
     "execution_count": 37,
     "metadata": {},
     "output_type": "execute_result"
    }
   ],
   "source": [
    "arr"
   ]
  },
  {
   "cell_type": "code",
   "execution_count": 38,
   "metadata": {},
   "outputs": [
    {
     "name": "stdout",
     "output_type": "stream",
     "text": [
      "<class 'pandas.core.frame.DataFrame'>\n",
      "RangeIndex: 3 entries, 0 to 2\n",
      "Data columns (total 11 columns):\n",
      "beat     3 non-null object\n",
      "Q_idx    3 non-null int64\n",
      "R_idx    3 non-null int64\n",
      "S_idx    3 non-null int64\n",
      "Q        3 non-null float64\n",
      "R        3 non-null float64\n",
      "S        3 non-null float64\n",
      "RR0      1 non-null float64\n",
      "RR1      2 non-null float64\n",
      "RR2      2 non-null float64\n",
      "A        3 non-null float64\n",
      "dtypes: float64(7), int64(3), object(1)\n",
      "memory usage: 392.0+ bytes\n"
     ]
    }
   ],
   "source": [
    "arr.info()"
   ]
  },
  {
   "cell_type": "code",
   "execution_count": null,
   "metadata": {},
   "outputs": [],
   "source": []
  },
  {
   "cell_type": "code",
   "execution_count": null,
   "metadata": {},
   "outputs": [],
   "source": []
  },
  {
   "cell_type": "code",
   "execution_count": null,
   "metadata": {},
   "outputs": [],
   "source": []
  },
  {
   "cell_type": "code",
   "execution_count": null,
   "metadata": {},
   "outputs": [],
   "source": []
  },
  {
   "cell_type": "code",
   "execution_count": null,
   "metadata": {},
   "outputs": [],
   "source": []
  },
  {
   "cell_type": "code",
   "execution_count": null,
   "metadata": {},
   "outputs": [],
   "source": []
  },
  {
   "cell_type": "code",
   "execution_count": 15,
   "metadata": {},
   "outputs": [],
   "source": [
    "R = []\n",
    "Q = []\n",
    "S = []\n",
    "t_R = []\n",
    "t_Q = []\n",
    "t_S = []"
   ]
  },
  {
   "cell_type": "code",
   "execution_count": 62,
   "metadata": {},
   "outputs": [
    {
     "name": "stdout",
     "output_type": "stream",
     "text": [
      "R : [1.1203124999999998, 1.2179687499999998, 1.2374999999999998]\n",
      "Q : [0.007031249999999822, -0.22246093750000018, -0.2566406250000002]\n",
      "S : [-0.12480468750000018, -0.16386718750000018, -0.19316406250000018]\n",
      "t_R : [0.2079, 0.999, 1.7901]\n",
      "t_Q : [0.14850000000000002, 0.9720000000000001, 1.7658]\n",
      "t_S : [0.22410000000000002, 1.0233, 1.8063]\n"
     ]
    }
   ],
   "source": [
    "print('R :', R)\n",
    "print('Q :' ,Q)\n",
    "print('S :' ,S)\n",
    "print('t_R :', t_R)\n",
    "print('t_Q :', t_Q)\n",
    "print('t_S :', t_S)"
   ]
  },
  {
   "cell_type": "code",
   "execution_count": 138,
   "metadata": {},
   "outputs": [],
   "source": [
    "R_R = []"
   ]
  },
  {
   "cell_type": "code",
   "execution_count": 139,
   "metadata": {},
   "outputs": [
    {
     "data": {
      "text/plain": [
       "[0.7911, 0.7911]"
      ]
     },
     "execution_count": 139,
     "metadata": {},
     "output_type": "execute_result"
    }
   ],
   "source": [
    "for i in range(len(t_R)-1):\n",
    "    R_R.append(t_R[i+1] - t_R[i])\n",
    "R_R"
   ]
  },
  {
   "cell_type": "code",
   "execution_count": null,
   "metadata": {},
   "outputs": [],
   "source": []
  },
  {
   "cell_type": "code",
   "execution_count": null,
   "metadata": {},
   "outputs": [],
   "source": [
    "\n",
    "        "
   ]
  },
  {
   "cell_type": "code",
   "execution_count": 140,
   "metadata": {},
   "outputs": [],
   "source": [
    "data100_2000 = data100.iloc[:2000]"
   ]
  },
  {
   "cell_type": "code",
   "execution_count": 141,
   "metadata": {},
   "outputs": [],
   "source": [
    "second_3 = np.arange(0, 5.4, 0.0027)"
   ]
  },
  {
   "cell_type": "code",
   "execution_count": 142,
   "metadata": {},
   "outputs": [
    {
     "data": {
      "text/plain": [
       "<matplotlib.legend.Legend at 0x27497e5f630>"
      ]
     },
     "execution_count": 142,
     "metadata": {},
     "output_type": "execute_result"
    },
    {
     "data": {
      "image/png": "[encoded data removed]",
      "text/plain": [
       "<Figure size 432x288 with 1 Axes>"
      ]
     },
     "metadata": {},
     "output_type": "display_data"
    }
   ],
   "source": [
    "plt.plot(second_3, data100_2000[\"'MLII'\"], 'r')\n",
    "plt.plot(second_3, data100_2000[\"'V5'\"], 'b')\n",
    "plt.legend(loc= 'upper right')"
   ]
  },
  {
   "cell_type": "code",
   "execution_count": 143,
   "metadata": {},
   "outputs": [],
   "source": [
    "data100_2500 = data100.iloc[:2500]"
   ]
  },
  {
   "cell_type": "code",
   "execution_count": 144,
   "metadata": {},
   "outputs": [],
   "source": [
    "second_4 = np.arange(0, 6.75, 0.0027)"
   ]
  },
  {
   "cell_type": "code",
   "execution_count": 145,
   "metadata": {},
   "outputs": [
    {
     "data": {
      "text/plain": [
       "<matplotlib.legend.Legend at 0x2749a404710>"
      ]
     },
     "execution_count": 145,
     "metadata": {},
     "output_type": "execute_result"
    },
    {
     "data": {
      "image/png": "[encoded data removed]",
      "text/plain": [
       "<Figure size 432x288 with 1 Axes>"
      ]
     },
     "metadata": {},
     "output_type": "display_data"
    }
   ],
   "source": [
    "plt.plot(second_4, data100_2500[\"'MLII'\"], 'r')\n",
    "plt.plot(second_4, data100_2500[\"'V5'\"], 'b')\n",
    "plt.legend(loc= 'upper right')"
   ]
  },
  {
   "cell_type": "code",
   "execution_count": 146,
   "metadata": {},
   "outputs": [
    {
     "data": {
      "text/plain": [
       "[<matplotlib.lines.Line2D at 0x27497ec9278>]"
      ]
     },
     "execution_count": 146,
     "metadata": {},
     "output_type": "execute_result"
    },
    {
     "data": {
      "image/png": "[encoded data removed]",
      "text/plain": [
       "<Figure size 432x288 with 1 Axes>"
      ]
     },
     "metadata": {},
     "output_type": "display_data"
    }
   ],
   "source": [
    "plt.plot(second_4, data100_2500[\"'MLII'\"], 'r')"
   ]
  },
  {
   "cell_type": "code",
   "execution_count": null,
   "metadata": {},
   "outputs": [],
   "source": []
  }
 ],
 "metadata": {
  "kernelspec": {
   "display_name": "Python 3",
   "language": "python",
   "name": "python3"
  },
  "language_info": {
   "codemirror_mode": {
    "name": "ipython",
    "version": 3
   },
   "file_extension": ".py",
   "mimetype": "text/x-python",
   "name": "python",
   "nbconvert_exporter": "python",
   "pygments_lexer": "ipython3",
   "version": "3.7.1"
  }
 },
 "nbformat": 4,
 "nbformat_minor": 2
}
